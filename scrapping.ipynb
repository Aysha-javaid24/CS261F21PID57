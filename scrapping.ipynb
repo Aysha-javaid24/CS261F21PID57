{
 "cells": [
  {
   "cell_type": "code",
   "execution_count": 27,
   "id": "1a22eb23",
   "metadata": {
    "scrolled": false
   },
   "outputs": [
    {
     "name": "stdout",
     "output_type": "stream",
     "text": [
      "25\n",
      "50\n"
     ]
    }
   ],
   "source": [
    "from selenium import webdriver\n",
    "from bs4 import BeautifulSoup\n",
    "import pandas as pd\n",
    "import requests\n",
    "\n",
    "Names=[]\n",
    "Reviews = []\n",
    "Address = []\n",
    "Charges=[]\n",
    "Rooms=[]\n",
    "Beds=[]\n",
    "Ratings=[]\n",
    "for i in range(25,75,25):\n",
    "    url=f'https://www.booking.com/searchresults.html?label=gen173nr-1FCAEoggI46AdIM1gEaLUBiAEBmAExuAEXyAEM2AEB6AEB-AECiAIBqAIDuAKplP6LBsACAdICJDgxNzljMmViLTk3Y2YtNDg5MS1hNjkxLWRiNjRhYzUzYTNmYtgCBeACAQ;sid=212717735199c72c78dade463fa18a06;city=-290692&offset={i}'\n",
    "    r=requests.get(url)\n",
    "    hcontent = r.content\n",
    "    soup=BeautifulSoup(hcontent,\"html.parser\")\n",
    "    \n",
    "    print(i)\n",
    "    for a in soup.findAll('div', attrs={'class': '_fe1927d9e _0811a1b54 _a8a1be610 _022ee35ec b9c27d6646 fb3c4512b4 fc21746a73'}):\n",
    "        name = a.find('div',{'class':'fde444d7ef _c445487e2'})\n",
    "        review = a.find('div',attrs={'class':'_4abc4c3d5 _1e6021d2f _fb3ba087b _6e869d6e0'})\n",
    "        address = a.find('span',attrs={'data-testid':'address'})\n",
    "        charges=a.find('span',attrs={'class':'fde444d7ef _e885fdc12'})\n",
    "        rooms=a.find('span',attrs={'class':'_c5d12bf22'})\n",
    "        beds=a.find('div',attrs={'class':'_2075f7b46'}).find('div',attrs={'class':'_4abc4c3d5'})\n",
    "        ratings=a.find('div',attrs={'class':'_9c5f726ff'})\n",
    "        try:\n",
    "            name = name.text\n",
    "            print (name)\n",
    "        except:\n",
    "            name = \"Null\"\n",
    "        try:\n",
    "            review = review.text\n",
    "        except:\n",
    "            review = \"Null\"\n",
    "        try:\n",
    "            address = address.text\n",
    "        except:\n",
    "            address = \"Null\"\n",
    "        try:\n",
    "            charges = charges.text\n",
    "        except:\n",
    "            charges = \"Null\"\n",
    "        try:\n",
    "            rooms = rooms.text\n",
    "        except:\n",
    "            rooms = \"Null\"\n",
    "        try:\n",
    "            beds = beds.text\n",
    "        except:\n",
    "            beds = \"Null\"\n",
    "        try:\n",
    "            ratings = ratings.text\n",
    "        except:\n",
    "            ratings = \"Null\"\n",
    "            \n",
    "        df = pd.DataFrame({'Hotel Name':[name], 'Address':[address], 'Reviews':[review], 'Charges':[charges], 'Rooms':[rooms], 'Beds':[beds], 'Ratings':[ratings]})\n",
    "        df.to_csv('Hotels2.csv', index=False)\n",
    "        print(df)"
   ]
  },
  {
   "cell_type": "code",
   "execution_count": null,
   "id": "b6532466",
   "metadata": {},
   "outputs": [],
   "source": [
    "name=a.find('dh2', attrs={'class':'sr-card__name u-margin:0 u-padding:0'})\n",
    "        address = a.find('div',attrs={'class':' sr-card__item__content  '})\n",
    "        reviews = a.find('div',attrs={'class':'bui-review-score__text'})\n",
    "        print(\"Name: \"+name.text)\n",
    "        print(\"Location : \"+address.text[0:len(address.text)-14])\n",
    "        print(\"Reviews: \"+reviews.text)\n",
    "        Names.append(name.text)\n",
    "        Reviews.append(reviews.text)\n",
    "        Address.append(address.text[0:len(address.text)-14])\n",
    "        df = pd.DataFrame({'Product Name':[names], 'Product Address':[address], 'Product Reviews':[reviews]})\n",
    "        df.to_csv('products.csv', mode='a',index=False, header=False, encoding='utf-8')"
   ]
  }
 ],
 "metadata": {
  "kernelspec": {
   "display_name": "Python 3",
   "language": "python",
   "name": "python3"
  },
  "language_info": {
   "codemirror_mode": {
    "name": "ipython",
    "version": 3
   },
   "file_extension": ".py",
   "mimetype": "text/x-python",
   "name": "python",
   "nbconvert_exporter": "python",
   "pygments_lexer": "ipython3",
   "version": "3.8.8"
  }
 },
 "nbformat": 4,
 "nbformat_minor": 5
}
