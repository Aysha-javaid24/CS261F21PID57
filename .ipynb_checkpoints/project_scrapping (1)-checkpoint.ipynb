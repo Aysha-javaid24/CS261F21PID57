{
 "cells": [
  {
   "cell_type": "code",
   "execution_count": 1,
   "id": "1a22eb23",
   "metadata": {
    "scrolled": false
   },
   "outputs": [
    {
     "name": "stdout",
     "output_type": "stream",
     "text": [
      "0\n",
      "30\n"
     ]
    }
   ],
   "source": [
    "from selenium import webdriver\n",
    "from bs4 import BeautifulSoup\n",
    "import pandas as pd\n",
    "import time\n",
    "\n",
    "driver=webdriver.Chrome(executable_path=\"C:\\\\Users\\\\aysha\\\\Downloads\\\\DSA(Lab1)\\\\chromedriver\\\\chromedriver.exe\")\n",
    "Names=[]\n",
    "Prices = []\n",
    "Reviews = []\n",
    "for i in range(50,52,1): # 92\n",
    "    num = (i-1)*30\n",
    "    url=('https://www.tripadvisor.com/Hotels-g295424-oa'+str(num)+'-Dubai_Emirate_of_Dubai-Hotels.html'+str(num))\n",
    "    print(i)\n",
    "    driver.get(url)\n",
    "    content=driver.page_source\n",
    "    soup=BeautifulSoup(content)\n",
    "    for a in soup.findAll('div', attrs={'class': 'prw_rup prw_meta_hsx_responsive_listing ui_section listItem'}):\n",
    "        try:\n",
    "            name=a.find('a', attrs={'data-clicksource':'HotelName'})\n",
    "        except:\n",
    "            name = \"Null\"\n",
    "        Names.append(name)\n",
    "        try:\n",
    "            price=a.find('div', attrs={'class':'price __resizeWatch'})\n",
    "        except:\n",
    "            price = \"Null\"\n",
    "        Prices.append(price)\n",
    "        try:\n",
    "             reviews=a.find('a', attrs={'class':'review_count'})\n",
    "        except:\n",
    "            reviews = \"Null\"\n",
    "        Reviews.append(reviews)\n",
    "df = pd.DataFrame({'Hotel Name':[name.text], 'Hotel Price':[price.text], 'hotel Review':[reviews.text]}) \n",
    "df.to_csv('Hotels.csv', mode='a',index=False, header=False, encoding='utf-8')"
   ]
  },
  {
   "cell_type": "code",
   "execution_count": null,
   "id": "b6532466",
   "metadata": {},
   "outputs": [],
   "source": [
    "price = a.find('span',attrs={'data-cy':'currency-value'})\n",
    "        source = a.find('div',attrs={'class':'source booking text-n text-bluegrey font-n whitespace-pre-wrap css-1wat2rj'})\n",
    "        print(source)\n",
    "        try:\n",
    "            rating = a.find('span',attrs={'class':'rating-value'})\n",
    "        except:\n",
    "            rating = \"00\"\n",
    "            \n",
    "            #         df = pd.DataFrame({'Product Name':[name], 'Product Address':[address], 'Product Reviews':[reviews]}) \n",
    "#         df.to_csv('products.csv', mode='a',index=False, header=False, encoding='utf-8')"
   ]
  },
  {
   "cell_type": "code",
   "execution_count": null,
   "id": "ff7089dc",
   "metadata": {},
   "outputs": [],
   "source": [
    "time.sleep(7)\n",
    "    \n",
    "        name = name.text"
   ]
  }
 ],
 "metadata": {
  "kernelspec": {
   "display_name": "Python 3",
   "language": "python",
   "name": "python3"
  },
  "language_info": {
   "codemirror_mode": {
    "name": "ipython",
    "version": 3
   },
   "file_extension": ".py",
   "mimetype": "text/x-python",
   "name": "python",
   "nbconvert_exporter": "python",
   "pygments_lexer": "ipython3",
   "version": "3.8.8"
  }
 },
 "nbformat": 4,
 "nbformat_minor": 5
}
