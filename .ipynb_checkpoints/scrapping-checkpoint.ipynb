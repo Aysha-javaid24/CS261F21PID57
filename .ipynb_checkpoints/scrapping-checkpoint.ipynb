{
 "cells": [
  {
   "cell_type": "code",
   "execution_count": 2,
   "id": "1a22eb23",
   "metadata": {
    "scrolled": false
   },
   "outputs": [
    {
     "name": "stdout",
     "output_type": "stream",
     "text": [
      "25\n",
      "50\n",
      "75\n"
     ]
    }
   ],
   "source": [
    "from selenium import webdriver\n",
    "from bs4 import BeautifulSoup\n",
    "import pandas as pd\n",
    "import requests\n",
    "\n",
    "driver=webdriver.Chrome(executable_path=\"C:\\\\Users\\\\aysha\\\\OneDrive\\\\Desktop\\\\chromedriver\\\\chromedriver.exe\")\n",
    "\n",
    "Names=[]\n",
    "Reviews = []\n",
    "Address = []\n",
    "Charges=[]\n",
    "Rooms=[]\n",
    "Beds=[]\n",
    "Ratings=[]\n",
    "for i in range(25,8750,25):\n",
    "    url='https://www.booking.com/searchresults.en-gb.html?label=gen173nr-1DCAEoggI46AdIM1gEaLUBiAEBmAExuAEXyAEM2AED6AEB-AECiAIBqAIDuALC9raLBsACAdICJDMxNmVjYmRkLTY0NzktNGI0Yi04MGUwLWY1MTU4ZTc4YjY3NNgCBOACAQ&sid=35e8f7e4419f617e5860e97b5ccf72df&aid=304142&lang=en-gb&sb=1&src=searchresults&src_elem=sb&error_url=https%3A%2F%2Fwww.booking.com%2Fsearchresults.en-gb.html%3Faid%3D304142%3Blabel%3Dgen173nr-1DCAEoggI46AdIM1gEaLUBiAEBmAExuAEXyAEM2AED6AEB-AECiAIBqAIDuALC9raLBsACAdICJDMxNmVjYmRkLTY0NzktNGI0Yi04MGUwLWY1MTU4ZTc4YjY3NNgCBOACAQ%3Bsid%3D35e8f7e4419f617e5860e97b5ccf72df%3Btmpl%3Dsearchresults%3Bac_click_type%3Db%3Bac_position%3D0%3Bcheckin_month%3D11%3Bcheckin_monthday%3D1%3Bcheckin_year%3D2021%3Bcheckout_month%3D11%3Bcheckout_monthday%3D3%3Bcheckout_year%3D2021%3Bclass_interval%3D1%3Bdest_id%3D-246227%3Bdest_type%3Dcity%3Bdtdisc%3D0%3Bfrom_sf%3D1%3Bgroup_adults%3D2%3Bgroup_children%3D0%3Biata%3DTYO%3Binac%3D0%3Bindex_postcard%3D0%3Blabel_click%3Dundef%3Bno_rooms%3D1%3Boffset%3D2000%3Bpostcard%3D0%3Braw_dest_type%3Dcity%3Broom1%3DA%252CA%3Bsb_price_type%3Dtotal%3Bsb_travel_purpose%3Dbusiness%3Bsearch_selected%3D1%3Bshw_aparth%3D1%3Bslp_r_match%3D0%3Bsrc%3Dsearchresults%3Bsrc_elem%3Dsb%3Bsrpvid%3D8aa17cfbcebb019e%3Bss%3DTokyo%252C%2BTokyo-to%252C%2BJapan%3Bss_all%3D0%3Bss_raw%3DTok%3Bssb%3Dempty%3Bsshis%3D0%3Btop_ufis%3D1%3Bsig%3Dv1zthikF2r%26%3B&ss=Turkey&is_ski_area=&ssne=Tokyo&ssne_untouched=Tokyo&city=-246227&checkin_year=2021&checkin_month=11&checkin_monthday=1&checkout_year=2021&checkout_month=11&checkout_monthday=3&group_adults=2&group_children=0&no_rooms=1&sb_travel_purpose=business&sb_changed_group=1&sb_changed_destination=1&from_sf=1&search_pageview_id=8aa17cfbcebb019e&ac_suggestion_list_length=5&ac_suggestion_theme_list_length=0&ac_position=1&ac_langcode=en&ac_click_type=b&dest_id=215&dest_type=country&place_id_lat=38.9637&place_id_lon=34&search_pageview_id=8aa17cfbcebb019e&search_selected=true&ss_raw=T&offset'+str(i)\n",
    "    driver.get(url)\n",
    "    content = driver.page_source\n",
    "    soup=BeautifulSoup(content)\n",
    "    print(i)\n",
    "    for a in soup.findAll('div', attrs={'class': '_fe1927d9e _0811a1b54 _a8a1be610 _022ee35ec b9c27d6646 fb3c4512b4 fc21746a73'}):\n",
    "        name = a.find('div',attrs={'class':'fde444d7ef _c445487e2'})\n",
    "        review = a.find('div',attrs={'class':'_4abc4c3d5 _1e6021d2f _fb3ba087b _6e869d6e0'})\n",
    "        address = a.find('span',attrs={'data-testid':'address'})\n",
    "        charges=a.find('span',attrs={'class':'fde444d7ef _e885fdc12'})\n",
    "        rooms=a.find('span',attrs={'class':'_c5d12bf22'})\n",
    "        beds=a.find('div',attrs={'class':'_2075f7b46'}).find('div',attrs={'class':'_4abc4c3d5'})\n",
    "        ratings=a.find('div',attrs={'class':'_9c5f726ff'})\n",
    "        try:\n",
    "            name = name.text\n",
    "        except:\n",
    "            name = \"Null\"\n",
    "        try:\n",
    "            review = review.text\n",
    "        except:\n",
    "            review = \"Null\"\n",
    "        try:\n",
    "            address = address.text\n",
    "        except:\n",
    "            address = \"Null\"\n",
    "        try:\n",
    "            charges = charges.text\n",
    "        except:\n",
    "            charges = \"Null\"\n",
    "        try:\n",
    "            rooms = rooms.text\n",
    "        except:\n",
    "            rooms = \"Null\"\n",
    "        try:\n",
    "            beds = beds.text\n",
    "        except:\n",
    "            beds = \"Null\"\n",
    "        try:\n",
    "            ratings = ratings.text\n",
    "        except:\n",
    "            ratings = \"Null\"\n",
    "            \n",
    "        df = pd.DataFrame({'Hotel Name':[name], 'Address':[address], 'Reviews':[review], 'Charges':[charges], 'Rooms':[rooms], 'Beds':[beds], 'Ratings':[ratings]})\n",
    "        df.to_csv('Hotels2.csv',mode='a', index=False, header=False,  encoding='utf-8')\n",
    "        \n",
    "        \n"
   ]
  },
  {
   "cell_type": "code",
   "execution_count": null,
   "id": "b6532466",
   "metadata": {},
   "outputs": [],
   "source": [
    "name=a.find('dh2', attrs={'class':'sr-card__name u-margin:0 u-padding:0'})\n",
    "        address = a.find('div',attrs={'class':' sr-card__item__content  '})\n",
    "        reviews = a.find('div',attrs={'class':'bui-review-score__text'})\n",
    "        print(\"Name: \"+name.text)\n",
    "        print(\"Location : \"+address.text[0:len(address.text)-14])\n",
    "        print(\"Reviews: \"+reviews.text)\n",
    "        Names.append(name.text)\n",
    "        Reviews.append(reviews.text)\n",
    "        Address.append(address.text[0:len(address.text)-14])\n",
    "        df = pd.DataFrame({'Product Name':[names], 'Product Address':[address], 'Product Reviews':[reviews]})\n",
    "        df.to_csv('products.csv', mode='a',index=False, header=False, encoding='utf-8')"
   ]
  }
 ],
 "metadata": {
  "kernelspec": {
   "display_name": "Python 3",
   "language": "python",
   "name": "python3"
  },
  "language_info": {
   "codemirror_mode": {
    "name": "ipython",
    "version": 3
   },
   "file_extension": ".py",
   "mimetype": "text/x-python",
   "name": "python",
   "nbconvert_exporter": "python",
   "pygments_lexer": "ipython3",
   "version": "3.8.8"
  }
 },
 "nbformat": 4,
 "nbformat_minor": 5
}
