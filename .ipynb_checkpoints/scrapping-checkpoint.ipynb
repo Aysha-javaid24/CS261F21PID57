{
 "cells": [
  {
   "cell_type": "code",
   "execution_count": null,
   "id": "1a22eb23",
   "metadata": {
    "scrolled": false
   },
   "outputs": [],
   "source": [
    "from selenium import webdriver\n",
    "from bs4 import BeautifulSoup\n",
    "import pandas as pd\n",
    "\n",
    "driver=webdriver.Chrome(executable_path=\"C:\\\\Users\\\\aysha\\\\Downloads\\\\DSA(Lab1)\\\\chromedriver\\\\chromedriver.exe\")\n",
    "\n",
    "Names=[]\n",
    "Reviews = []\n",
    "Address = []\n",
    "Charges=[]\n",
    "Rooms=[]\n",
    "Beds=[]\n",
    "Ratings=[]\n",
    "for i in range(0,30000,25):\n",
    "    url='https://www.booking.com/searchresults.en-gb.html?label=gen173nr-1DCAEoggI46AdIM1gEaLUBiAEBmAExuAEXyAEM2AED6AEB-AECiAIBqAIDuALC9raLBsACAdICJDMxNmVjYmRkLTY0NzktNGI0Yi04MGUwLWY1MTU4ZTc4YjY3NNgCBOACAQ&sid=35e8f7e4419f617e5860e97b5ccf72df&aid=304142&lang=en-gb&sb=1&src=searchresults&src_elem=sb&error_url=https%3A%2F%2Fwww.booking.com%2Fsearchresults.en-gb.html%3Faid%3D304142%3Blabel%3Dgen173nr-1DCAEoggI46AdIM1gEaLUBiAEBmAExuAEXyAEM2AED6AEB-AECiAIBqAIDuALC9raLBsACAdICJDMxNmVjYmRkLTY0NzktNGI0Yi04MGUwLWY1MTU4ZTc4YjY3NNgCBOACAQ%3Bsid%3D35e8f7e4419f617e5860e97b5ccf72df%3Btmpl%3Dsearchresults%3Bclass_interval%3D1%3Bdtdisc%3D0%3Bgroup_adults%3D2%3Binac%3D0%3Bindex_postcard%3D0%3Blabel_click%3Dundef%3Boffset%3D0%3Bpostcard%3D0%3Bsb_price_type%3Dtotal%3Bshw_aparth%3D1%3Bslp_r_match%3D0%3Bsrc%3Dsearchresults%3Bsrc_elem%3Dsb%3Bsrpvid%3Db81b7c1073a10288%3Bss_all%3D0%3Bssb%3Dempty%3Bsshis%3D0%3Btop_ufis%3D1%3Bsig%3Dv1lZYYs4Wo%26%3B&ss=Tokyo%2C+Tokyo-to%2C+Japan&is_ski_area=&checkin_year=2021&checkin_month=11&checkin_monthday=1&checkout_year=2021&checkout_month=11&checkout_monthday=3&group_adults=2&group_children=0&no_rooms=1&sb_travel_purpose=business&sb_changed_destination=1&from_sf=1&ss_raw=Tok&ac_position=0&ac_langcode=en&ac_click_type=b&dest_id=-246227&dest_type=city&iata=TYO&place_id_lat=35.68596&place_id_lon=139.729518&search_pageview_id=b81b7c1073a10288&search_selected=true&search_pageview_id=b81b7c1073a10288&ac_suggestion_list_length=5&ac_suggestion_theme_list_length=0&offset='+str(i)\n",
    "    driver.get(url)\n",
    "    content=driver.page_source\n",
    "    soup=BeautifulSoup(content)\n",
    "    print(i)\n",
    "    for a in soup.findAll('div', attrs={'class': '_fe1927d9e _0811a1b54 _a8a1be610 _022ee35ec b9c27d6646 fb3c4512b4 fc21746a73'}):\n",
    "        name = a.find('div',attrs={'class':'fde444d7ef _c445487e2'})\n",
    "        review = a.find('div',attrs={'class':'_4abc4c3d5 _1e6021d2f _fb3ba087b _6e869d6e0'})\n",
    "        address = a.find('span',attrs={'data-testid':'address'})\n",
    "        charges=a.find('span',attrs={'class':'fde444d7ef _e885fdc12'})\n",
    "        rooms=a.find('span',attrs={'class':'_c5d12bf22'})\n",
    "        beds=a.find('div',attrs={'class':'_4abc4c3d5'})\n",
    "        ratings=a.find('div',attrs={'class':'_9c5f726ff'})\n",
    "        try:\n",
    "            name = name.text\n",
    "        except:\n",
    "            name = \"Null\"\n",
    "        try:\n",
    "            review = review.text\n",
    "        except:\n",
    "            review = \"Null\"\n",
    "        try:\n",
    "            address = address.text\n",
    "        except:\n",
    "            address = \"Null\"\n",
    "        try:\n",
    "            charges = charges.text\n",
    "        except:\n",
    "            charges = \"Null\"\n",
    "        try:\n",
    "            rooms = rooms.text\n",
    "        except:\n",
    "            rooms = \"Null\"\n",
    "        try:\n",
    "            beds = beds.text\n",
    "        except:\n",
    "            beds = \"Null\"\n",
    "        try:\n",
    "            ratings = ratings.text\n",
    "        except:\n",
    "            ratings = \"Null\"\n",
    "            \n",
    "    df = pd.DataFrame({'Hotel Name':[name], 'Address':[address], 'Reviews':[review], 'Charges':[charges], 'Rooms':[rooms], 'Beds':[beds], 'Ratings':[ratings]})\n",
    "    df.to_csv('Product_more.csv', mode = 'a', index=False,header=False, encoding='utf-8')\n",
    "        \n",
    "#driver.get('https://www.booking.com/city/za/cape-town.html?label=gen173nr-1DCAEoggI46AdIM1gEaLUBiAEBmAExuAEXyAEM2AED6AEB-AECiAIBqAIDuAL3jLWLBsACAdICJDhlMjE1ODk1LWZlN2EtNGJjNS1iMGMwLWY1NWNiOTFjNGZiOdgCBOACAQ;sid=35e8f7e4419f617e5860e97b5ccf72df;sig=v1rFww98QB')\n"
   ]
  },
  {
   "cell_type": "code",
   "execution_count": null,
   "id": "eb550147",
   "metadata": {},
   "outputs": [],
   "source": []
  },
  {
   "cell_type": "code",
   "execution_count": null,
   "id": "b6532466",
   "metadata": {},
   "outputs": [],
   "source": [
    "name=a.find('dh2', attrs={'class':'sr-card__name u-margin:0 u-padding:0'})\n",
    "        address = a.find('div',attrs={'class':' sr-card__item__content  '})\n",
    "        reviews = a.find('div',attrs={'class':'bui-review-score__text'})\n",
    "        print(\"Name: \"+name.text)\n",
    "        print(\"Location : \"+address.text[0:len(address.text)-14])\n",
    "        print(\"Reviews: \"+reviews.text)\n",
    "        Names.append(name.text)\n",
    "        Reviews.append(reviews.text)\n",
    "        Address.append(address.text[0:len(address.text)-14])\n",
    "        df = pd.DataFrame({'Product Name':[names], 'Product Address':[address], 'Product Reviews':[reviews]})\n",
    "        df.to_csv('products.csv', mode='a',index=False, header=False, encoding='utf-8')"
   ]
  },
  {
   "cell_type": "code",
   "execution_count": null,
   "id": "4b7339bf",
   "metadata": {},
   "outputs": [],
   "source": []
  },
  {
   "cell_type": "code",
   "execution_count": null,
   "id": "ae2fd271",
   "metadata": {},
   "outputs": [],
   "source": []
  }
 ],
 "metadata": {
  "kernelspec": {
   "display_name": "Python 3",
   "language": "python",
   "name": "python3"
  },
  "language_info": {
   "codemirror_mode": {
    "name": "ipython",
    "version": 3
   },
   "file_extension": ".py",
   "mimetype": "text/x-python",
   "name": "python",
   "nbconvert_exporter": "python",
   "pygments_lexer": "ipython3",
   "version": "3.8.8"
  }
 },
 "nbformat": 4,
 "nbformat_minor": 5
}
