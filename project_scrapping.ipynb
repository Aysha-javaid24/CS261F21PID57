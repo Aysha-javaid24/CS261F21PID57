{
 "cells": [
  {
   "cell_type": "code",
   "execution_count": 4,
   "id": "1a22eb23",
   "metadata": {},
   "outputs": [],
   "source": [
    "from selenium import webdriver\n",
    "from bs4 import BeautifulSoup\n",
    "import pandas as pd\n",
    "\n",
    "driver=webdriver.Chrome(executable_path=\"C:\\\\Users\\\\aysha\\\\Downloads\\\\DSA(Lab1)\\\\chromedriver\\\\chromedriver.exe\")\n",
    "Names=[]\n",
    "for i in range(25,100,25):\n",
    "    url='https://www.booking.com/searchresults.html?aid=304142&label=gen173nr-1DCAEoggI46AdIM1gEaLUBiAEBmAExuAEXyAEM2AED6AEB-AECiAIBqAIDuALC9raLBsACAdICJDMxNmVjYmRkLTY0NzktNGI0Yi04MGUwLWY1MTU4ZTc4YjY3NNgCBOACAQ&sid=35e8f7e4419f617e5860e97b5ccf72df&tmpl=searchresults&city=-1217214&class_interval=1&dest_id=-1217214&dest_type=city&dtdisc=0&group_adults=2&group_children=0&inac=0&index_postcard=0&label_click=undef&no_rooms=1&postcard=0&raw_dest_type=city&room1=A%2CA&sb_price_type=total&shw_aparth=1&slp_r_match=0&srpvid=6404880ffa700101&ss_all=0&ssb=empty&sshis=0&top_ufis=1&sig=v1_r8xkA1Q&rows='+str(i)\n",
    "    driver.get(url)\n",
    "    content=driver.page_source\n",
    "    soup=BeautifulSoup(content)\n",
    "#     print(soup)\n",
    "    for a in soup.findAll('div', attrs={'sr__card js-sr-card'}):\n",
    "        print(\"Hello\")\n",
    "        name=a.find('span', attrs={'class':'bui-card__title'})\n",
    "        print(name.text)\n",
    "        Names.append(name.text)\n",
    "    \n",
    "df = pd.DataFrame({'Product Name':Names}) \n",
    "df.to_csv('products.csv', index=False, encoding='utf-8')\n",
    "    \n",
    "    \n",
    "    \n",
    "#driver.get('https://www.booking.com/city/za/cape-town.html?label=gen173nr-1DCAEoggI46AdIM1gEaLUBiAEBmAExuAEXyAEM2AED6AEB-AECiAIBqAIDuAL3jLWLBsACAdICJDhlMjE1ODk1LWZlN2EtNGJjNS1iMGMwLWY1NWNiOTFjNGZiOdgCBOACAQ;sid=35e8f7e4419f617e5860e97b5ccf72df;sig=v1rFww98QB')\n"
   ]
  },
  {
   "cell_type": "code",
   "execution_count": null,
   "id": "e0e5453b",
   "metadata": {},
   "outputs": [],
   "source": [
    "#  Acha Ayesha, aik problem ha"
   ]
  }
 ],
 "metadata": {
  "kernelspec": {
   "display_name": "Python 3",
   "language": "python",
   "name": "python3"
  },
  "language_info": {
   "codemirror_mode": {
    "name": "ipython",
    "version": 3
   },
   "file_extension": ".py",
   "mimetype": "text/x-python",
   "name": "python",
   "nbconvert_exporter": "python",
   "pygments_lexer": "ipython3",
   "version": "3.8.8"
  }
 },
 "nbformat": 4,
 "nbformat_minor": 5
}
