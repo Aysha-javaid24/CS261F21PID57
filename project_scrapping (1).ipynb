{
 "cells": [
  {
   "cell_type": "code",
   "execution_count": 1,
   "id": "1a22eb23",
   "metadata": {
    "scrolled": false
   },
   "outputs": [
    {
     "name": "stdout",
     "output_type": "stream",
     "text": [
      "50\n",
      "51\n"
     ]
    },
    {
     "ename": "AttributeError",
     "evalue": "'NoneType' object has no attribute 'text'",
     "output_type": "error",
     "traceback": [
      "\u001b[1;31m---------------------------------------------------------------------------\u001b[0m",
      "\u001b[1;31mAttributeError\u001b[0m                            Traceback (most recent call last)",
      "\u001b[1;32m<ipython-input-1-40193f4f95b5>\u001b[0m in \u001b[0;36m<module>\u001b[1;34m\u001b[0m\n\u001b[0;32m     32\u001b[0m         \u001b[1;32mexcept\u001b[0m\u001b[1;33m:\u001b[0m\u001b[1;33m\u001b[0m\u001b[1;33m\u001b[0m\u001b[0m\n\u001b[0;32m     33\u001b[0m             \u001b[0msource\u001b[0m \u001b[1;33m=\u001b[0m \u001b[1;34m\"Null\"\u001b[0m\u001b[1;33m\u001b[0m\u001b[1;33m\u001b[0m\u001b[0m\n\u001b[1;32m---> 34\u001b[1;33m \u001b[0mdf\u001b[0m \u001b[1;33m=\u001b[0m \u001b[0mpd\u001b[0m\u001b[1;33m.\u001b[0m\u001b[0mDataFrame\u001b[0m\u001b[1;33m(\u001b[0m\u001b[1;33m{\u001b[0m\u001b[1;34m'Hotel Name'\u001b[0m\u001b[1;33m:\u001b[0m\u001b[1;33m[\u001b[0m\u001b[0mname\u001b[0m\u001b[1;33m.\u001b[0m\u001b[0mtext\u001b[0m\u001b[1;33m]\u001b[0m\u001b[1;33m,\u001b[0m \u001b[1;34m'Hotel Price'\u001b[0m\u001b[1;33m:\u001b[0m\u001b[1;33m[\u001b[0m\u001b[0mprice\u001b[0m\u001b[1;33m.\u001b[0m\u001b[0mtext\u001b[0m\u001b[1;33m]\u001b[0m\u001b[1;33m,\u001b[0m \u001b[1;34m'hotel Review'\u001b[0m\u001b[1;33m:\u001b[0m\u001b[1;33m[\u001b[0m\u001b[0mreviews\u001b[0m\u001b[1;33m.\u001b[0m\u001b[0mtext\u001b[0m\u001b[1;33m]\u001b[0m\u001b[1;33m,\u001b[0m \u001b[1;34m'Hotel Source'\u001b[0m\u001b[1;33m:\u001b[0m\u001b[1;33m[\u001b[0m\u001b[0msource\u001b[0m\u001b[1;33m.\u001b[0m\u001b[0mtext\u001b[0m\u001b[1;33m]\u001b[0m\u001b[1;33m}\u001b[0m\u001b[1;33m)\u001b[0m\u001b[1;33m\u001b[0m\u001b[1;33m\u001b[0m\u001b[0m\n\u001b[0m\u001b[0;32m     35\u001b[0m \u001b[0mdf\u001b[0m\u001b[1;33m.\u001b[0m\u001b[0mto_csv\u001b[0m\u001b[1;33m(\u001b[0m\u001b[1;34m'Hotels.csv'\u001b[0m\u001b[1;33m,\u001b[0m \u001b[0mmode\u001b[0m\u001b[1;33m=\u001b[0m\u001b[1;34m'a'\u001b[0m\u001b[1;33m,\u001b[0m\u001b[0mindex\u001b[0m\u001b[1;33m=\u001b[0m\u001b[1;32mFalse\u001b[0m\u001b[1;33m,\u001b[0m \u001b[0mheader\u001b[0m\u001b[1;33m=\u001b[0m\u001b[1;32mFalse\u001b[0m\u001b[1;33m,\u001b[0m \u001b[0mencoding\u001b[0m\u001b[1;33m=\u001b[0m\u001b[1;34m'utf-8'\u001b[0m\u001b[1;33m)\u001b[0m\u001b[1;33m\u001b[0m\u001b[1;33m\u001b[0m\u001b[0m\n",
      "\u001b[1;31mAttributeError\u001b[0m: 'NoneType' object has no attribute 'text'"
     ]
    }
   ],
   "source": [
    "from selenium import webdriver\n",
    "from bs4 import BeautifulSoup\n",
    "import pandas as pd\n",
    "import time\n",
    "\n",
    "driver=webdriver.Chrome(executable_path=\"C:\\\\Users\\\\aysha\\\\Downloads\\\\DSA(Lab1)\\\\chromedriver\\\\chromedriver.exe\")\n",
    "Names=[]\n",
    "Reviews = []\n",
    "Address = []\n",
    "for i in range(50,52,1): # 92\n",
    "    num = (i-1)*30\n",
    "    url=('https://www.tripadvisor.com/Hotels-g295424-oa'+str(num)+'-Dubai_Emirate_of_Dubai-Hotels.html'+str(num))\n",
    "    print(i)\n",
    "    driver.get(url)\n",
    "    content=driver.page_source\n",
    "    soup=BeautifulSoup(content)\n",
    "    for a in soup.findAll('div', attrs={'class': 'ui_column is-8 main_col allowEllipsis'}):\n",
    "        try:\n",
    "            name=a.find('a', attrs={'data-clicksource':'HotelName'})\n",
    "        except:\n",
    "            name = \"Null\"\n",
    "        try:\n",
    "            price=a.find('div', attrs={'class':'price __resizeWatch'})\n",
    "        except:\n",
    "            price = \"Null\"\n",
    "        try:\n",
    "             reviews=a.find('a', attrs={'class':'review_count'})\n",
    "        except:\n",
    "            reviews = \"Null\"\n",
    "        try:\n",
    "            source=a.find('span', attrs={'class':'provider_text'})\n",
    "        except:\n",
    "            source = \"Null\"\n",
    "df = pd.DataFrame({'Hotel Name':[name.text], 'Hotel Price':[price.text], 'hotel Review':[reviews.text], 'Hotel Source':[source.text]}) \n",
    "df.to_csv('Hotels.csv', mode='a',index=False, header=False, encoding='utf-8')"
   ]
  },
  {
   "cell_type": "code",
   "execution_count": null,
   "id": "b6532466",
   "metadata": {},
   "outputs": [],
   "source": [
    "price = a.find('span',attrs={'data-cy':'currency-value'})\n",
    "        source = a.find('div',attrs={'class':'source booking text-n text-bluegrey font-n whitespace-pre-wrap css-1wat2rj'})\n",
    "        print(source)\n",
    "        try:\n",
    "            rating = a.find('span',attrs={'class':'rating-value'})\n",
    "        except:\n",
    "            rating = \"00\"\n",
    "            \n",
    "            #         df = pd.DataFrame({'Product Name':[name], 'Product Address':[address], 'Product Reviews':[reviews]}) \n",
    "#         df.to_csv('products.csv', mode='a',index=False, header=False, encoding='utf-8')"
   ]
  },
  {
   "cell_type": "code",
   "execution_count": null,
   "id": "ff7089dc",
   "metadata": {},
   "outputs": [],
   "source": [
    "time.sleep(7)\n",
    "    \n",
    "        name = name.text"
   ]
  }
 ],
 "metadata": {
  "kernelspec": {
   "display_name": "Python 3",
   "language": "python",
   "name": "python3"
  },
  "language_info": {
   "codemirror_mode": {
    "name": "ipython",
    "version": 3
   },
   "file_extension": ".py",
   "mimetype": "text/x-python",
   "name": "python",
   "nbconvert_exporter": "python",
   "pygments_lexer": "ipython3",
   "version": "3.8.8"
  }
 },
 "nbformat": 4,
 "nbformat_minor": 5
}
